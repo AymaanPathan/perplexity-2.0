{
 "cells": [
  {
   "cell_type": "code",
   "execution_count": 95,
   "id": "6bd9ebc6",
   "metadata": {},
   "outputs": [],
   "source": [
    "from typing import TypedDict,Annotated,Optional,List\n",
    "from langchain_groq import ChatGroq\n",
    "from langgraph.graph import StateGraph,END,add_messages\n",
    "from dotenv import load_dotenv\n",
    "from langchain_community.tools import TavilySearchResults\n",
    "from langgraph.checkpoint.memory import MemorySaver\n",
    "from uuid import uuid4\n",
    "import json \n",
    "from langchain_core.messages import SystemMessage,HumanMessage,ToolMessage\n",
    "from langgraph.prebuilt import ToolNode"
   ]
  },
  {
   "cell_type": "code",
   "execution_count": 96,
   "id": "379d424a",
   "metadata": {},
   "outputs": [],
   "source": [
    "load_dotenv()\n",
    "memory = MemorySaver()"
   ]
  },
  {
   "cell_type": "code",
   "execution_count": 97,
   "id": "559c56e1",
   "metadata": {},
   "outputs": [],
   "source": [
    "search_tool = TavilySearchResults(max_results=1)\n",
    "tools = [search_tool]\n",
    "llm = ChatGroq(model=\"llama-3.1-8b-instant\")\n",
    "llm_with_tools = llm.bind_tools(tools=tools)\n"
   ]
  },
  {
   "cell_type": "code",
   "execution_count": 98,
   "id": "b708f631",
   "metadata": {},
   "outputs": [],
   "source": [
    "class State(TypedDict):\n",
    "    messages:Annotated[list,add_messages]"
   ]
  },
  {
   "cell_type": "code",
   "execution_count": 99,
   "id": "ecd22fcb",
   "metadata": {},
   "outputs": [],
   "source": [
    "# model Node\n",
    "async def model(state:State):\n",
    "    llm_with_tools.ainvoke(state['messages'])\n",
    "\n",
    "# Tool router\n",
    "async def tool_router(state:State):\n",
    "    last_msg = state[\"messages\"][-1]\n",
    "    if hasattr(last_msg, \"tool_calls\") and len(last_msg.tool_calls) > 0:\n",
    "        return \"tool_node\"\n",
    "    else:\n",
    "        return END\n",
    "    \n",
    "# Tool Node\n",
    "tool_node = ToolNode(tools=tools)"
   ]
  },
  {
   "cell_type": "code",
   "execution_count": 100,
   "id": "3a72a50c",
   "metadata": {},
   "outputs": [
    {
     "data": {
      "text/plain": [
       "<langgraph.graph.state.StateGraph at 0x24b52720>"
      ]
     },
     "execution_count": 100,
     "metadata": {},
     "output_type": "execute_result"
    }
   ],
   "source": [
    "graph_builder = StateGraph(State)\n",
    "graph_builder.add_node(\"model\",model)\n",
    "graph_builder.add_node(\"tool_node\",tool_node)\n",
    "graph_builder.set_entry_point(\"model\")"
   ]
  },
  {
   "cell_type": "code",
   "execution_count": 101,
   "id": "59a71d62",
   "metadata": {},
   "outputs": [],
   "source": [
    "graph_builder.add_edge(\"tool_node\",\"model\")\n",
    "graph = graph_builder.compile(checkpointer=memory)"
   ]
  },
  {
   "cell_type": "code",
   "execution_count": 106,
   "id": "2dffd225",
   "metadata": {},
   "outputs": [
    {
     "name": "stderr",
     "output_type": "stream",
     "text": [
      "C:\\Users\\aymaa\\AppData\\Local\\Temp\\ipykernel_32792\\2411295684.py:3: RuntimeWarning: coroutine 'RunnableBindingBase.ainvoke' was never awaited\n",
      "  llm_with_tools.ainvoke(state['messages'])\n",
      "RuntimeWarning: Enable tracemalloc to get the object allocation traceback\n"
     ]
    },
    {
     "data": {
      "text/plain": [
       "{'messages': [HumanMessage(content='How are you?', additional_kwargs={}, response_metadata={}, id='81f0d326-a9a9-48d0-8ba4-86726bd15686'),\n",
       "  HumanMessage(content='How are you?', additional_kwargs={}, response_metadata={}, id='43030912-2cf8-4b5c-9253-f2fb46a4cab9'),\n",
       "  HumanMessage(content='How are you?', additional_kwargs={}, response_metadata={}, id='0525af43-017d-4946-969f-c86bcc18c9bb'),\n",
       "  HumanMessage(content='How are you?', additional_kwargs={}, response_metadata={}, id='10f6aab8-4fc4-426d-9983-7e86b4ef9ce9')]}"
      ]
     },
     "execution_count": 106,
     "metadata": {},
     "output_type": "execute_result"
    }
   ],
   "source": [
    "config = {\n",
    "    \"configurable\":{\n",
    "        \"thread_id\":5\n",
    "    }\n",
    "}\n",
    "\n",
    "res = await graph.ainvoke({\n",
    "    \"messages\":HumanMessage(content=\"How are you?\")\n",
    "},config=config)\n",
    "res"
   ]
  },
  {
   "cell_type": "code",
   "execution_count": null,
   "id": "291b5fc4",
   "metadata": {},
   "outputs": [],
   "source": []
  },
  {
   "cell_type": "code",
   "execution_count": null,
   "id": "a6eb30c4",
   "metadata": {},
   "outputs": [],
   "source": []
  }
 ],
 "metadata": {
  "kernelspec": {
   "display_name": "venv",
   "language": "python",
   "name": "python3"
  },
  "language_info": {
   "codemirror_mode": {
    "name": "ipython",
    "version": 3
   },
   "file_extension": ".py",
   "mimetype": "text/x-python",
   "name": "python",
   "nbconvert_exporter": "python",
   "pygments_lexer": "ipython3",
   "version": "3.12.1"
  }
 },
 "nbformat": 4,
 "nbformat_minor": 5
}
